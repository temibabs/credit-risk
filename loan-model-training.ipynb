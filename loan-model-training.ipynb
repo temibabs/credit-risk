{
 "cells": [
  {
   "cell_type": "code",
   "execution_count": 1,
   "metadata": {
    "collapsed": true
   },
   "outputs": [],
   "source": [
    "import pickle\n",
    "\n",
    "from sklearn.linear_model import LogisticRegression\n",
    "from sklearn.ensemble import RandomForestClassifier, GradientBoostingClassifier\n",
    "from sklearn.model_selection import train_test_split, cross_val_score\n",
    "from sklearn.model_selection import StratifiedKFold, GridSearchCV\n",
    "from sklearn.compose import ColumnTransformer\n",
    "from sklearn.preprocessing import OneHotEncoder, PolynomialFeatures\n",
    "from sklearn.pipeline import Pipeline\n",
    "from sklearn.feature_selection import mutual_info_classif\n",
    "from sklearn import metrics\n",
    "\n",
    "import pandas as pd"
   ]
  },
  {
   "cell_type": "code",
   "execution_count": 2,
   "outputs": [
    {
     "data": {
      "text/plain": "         OCCUPATION BUSINESS_TYPE      STATE  No_of_Mobile_No GENDER  \\\n2214        Artisan        OTHERS        Edo                1      F   \n1206  Self Employed        OTHERS      LAGOS                1      M   \n767          OTHERS        OTHERS      Lagos                1      F   \n1025       BUSINESS        OTHERS     Kaduna                1      M   \n1188        Artisan        OTHERS  AKWA IBOM                1      M   \n\n     MARITAL_STATUS          REGION BASIC_CURRENT BASIC_SAVINGS ATMCARD  \\\n2214        Married            WEST             N             N       Y   \n1206              0  LAGOS_MAINLAND             Y             N       Y   \n767        Divorced     HEAD_OFFICE             N             N       Y   \n1025        Married  LAGOS_MAINLAND             N             N       Y   \n1188              0           SOUTH             N             N       Y   \n\n      TOTAL_PRODUCTS      Credit       Debit    balance  Loan Tenure  \\\n2214               2  5556250.00  5390130.00  166120.00           11   \n1206               2  1215896.29  1056829.49  159066.80            6   \n767                2  1282057.38   853095.73  428961.65           12   \n1025               2  1554000.00  1434930.50  119069.50           12   \n1188               0   154774.67   228776.48  -74001.81           12   \n\n      Loan Amount (Principal)           Latest Known Status  Ever 90dpd+  \\\n2214                   350000   Current (active no arrears)          0.0   \n1206                   149000                    In arrears          0.0   \n767                    350000   Current (active no arrears)          0.0   \n1025                   149000   Current (active no arrears)          0.0   \n1188                    57000   Current (active no arrears)          0.0   \n\n      Currently ≥ 60dpd  Bad Indicator  \n2214                0.0            0.0  \n1206                1.0            1.0  \n767                 0.0            0.0  \n1025                0.0            0.0  \n1188                0.0            0.0  ",
      "text/html": "<div>\n<style scoped>\n    .dataframe tbody tr th:only-of-type {\n        vertical-align: middle;\n    }\n\n    .dataframe tbody tr th {\n        vertical-align: top;\n    }\n\n    .dataframe thead th {\n        text-align: right;\n    }\n</style>\n<table border=\"1\" class=\"dataframe\">\n  <thead>\n    <tr style=\"text-align: right;\">\n      <th></th>\n      <th>OCCUPATION</th>\n      <th>BUSINESS_TYPE</th>\n      <th>STATE</th>\n      <th>No_of_Mobile_No</th>\n      <th>GENDER</th>\n      <th>MARITAL_STATUS</th>\n      <th>REGION</th>\n      <th>BASIC_CURRENT</th>\n      <th>BASIC_SAVINGS</th>\n      <th>ATMCARD</th>\n      <th>TOTAL_PRODUCTS</th>\n      <th>Credit</th>\n      <th>Debit</th>\n      <th>balance</th>\n      <th>Loan Tenure</th>\n      <th>Loan Amount (Principal)</th>\n      <th>Latest Known Status</th>\n      <th>Ever 90dpd+</th>\n      <th>Currently ≥ 60dpd</th>\n      <th>Bad Indicator</th>\n    </tr>\n  </thead>\n  <tbody>\n    <tr>\n      <th>2214</th>\n      <td>Artisan</td>\n      <td>OTHERS</td>\n      <td>Edo</td>\n      <td>1</td>\n      <td>F</td>\n      <td>Married</td>\n      <td>WEST</td>\n      <td>N</td>\n      <td>N</td>\n      <td>Y</td>\n      <td>2</td>\n      <td>5556250.00</td>\n      <td>5390130.00</td>\n      <td>166120.00</td>\n      <td>11</td>\n      <td>350000</td>\n      <td>Current (active no arrears)</td>\n      <td>0.0</td>\n      <td>0.0</td>\n      <td>0.0</td>\n    </tr>\n    <tr>\n      <th>1206</th>\n      <td>Self Employed</td>\n      <td>OTHERS</td>\n      <td>LAGOS</td>\n      <td>1</td>\n      <td>M</td>\n      <td>0</td>\n      <td>LAGOS_MAINLAND</td>\n      <td>Y</td>\n      <td>N</td>\n      <td>Y</td>\n      <td>2</td>\n      <td>1215896.29</td>\n      <td>1056829.49</td>\n      <td>159066.80</td>\n      <td>6</td>\n      <td>149000</td>\n      <td>In arrears</td>\n      <td>0.0</td>\n      <td>1.0</td>\n      <td>1.0</td>\n    </tr>\n    <tr>\n      <th>767</th>\n      <td>OTHERS</td>\n      <td>OTHERS</td>\n      <td>Lagos</td>\n      <td>1</td>\n      <td>F</td>\n      <td>Divorced</td>\n      <td>HEAD_OFFICE</td>\n      <td>N</td>\n      <td>N</td>\n      <td>Y</td>\n      <td>2</td>\n      <td>1282057.38</td>\n      <td>853095.73</td>\n      <td>428961.65</td>\n      <td>12</td>\n      <td>350000</td>\n      <td>Current (active no arrears)</td>\n      <td>0.0</td>\n      <td>0.0</td>\n      <td>0.0</td>\n    </tr>\n    <tr>\n      <th>1025</th>\n      <td>BUSINESS</td>\n      <td>OTHERS</td>\n      <td>Kaduna</td>\n      <td>1</td>\n      <td>M</td>\n      <td>Married</td>\n      <td>LAGOS_MAINLAND</td>\n      <td>N</td>\n      <td>N</td>\n      <td>Y</td>\n      <td>2</td>\n      <td>1554000.00</td>\n      <td>1434930.50</td>\n      <td>119069.50</td>\n      <td>12</td>\n      <td>149000</td>\n      <td>Current (active no arrears)</td>\n      <td>0.0</td>\n      <td>0.0</td>\n      <td>0.0</td>\n    </tr>\n    <tr>\n      <th>1188</th>\n      <td>Artisan</td>\n      <td>OTHERS</td>\n      <td>AKWA IBOM</td>\n      <td>1</td>\n      <td>M</td>\n      <td>0</td>\n      <td>SOUTH</td>\n      <td>N</td>\n      <td>N</td>\n      <td>Y</td>\n      <td>0</td>\n      <td>154774.67</td>\n      <td>228776.48</td>\n      <td>-74001.81</td>\n      <td>12</td>\n      <td>57000</td>\n      <td>Current (active no arrears)</td>\n      <td>0.0</td>\n      <td>0.0</td>\n      <td>0.0</td>\n    </tr>\n  </tbody>\n</table>\n</div>"
     },
     "execution_count": 2,
     "metadata": {},
     "output_type": "execute_result"
    }
   ],
   "source": [
    "loans = pd.read_csv('full-loan-data.csv')\n",
    "loans.sample(5)"
   ],
   "metadata": {
    "collapsed": false,
    "pycharm": {
     "name": "#%%\n"
    }
   }
  },
  {
   "cell_type": "code",
   "execution_count": 3,
   "outputs": [],
   "source": [
    "y = loans['Bad Indicator']\n",
    "X = loans.drop(['Bad Indicator'], axis='columns')"
   ],
   "metadata": {
    "collapsed": false,
    "pycharm": {
     "name": "#%%\n"
    }
   }
  },
  {
   "cell_type": "markdown",
   "source": [
    "## Dealing Categorical Features"
   ],
   "metadata": {
    "collapsed": false
   }
  },
  {
   "cell_type": "code",
   "execution_count": 4,
   "outputs": [],
   "source": [
    "categorical_columns = ['OCCUPATION', 'BUSINESS_TYPE', 'STATE', 'GENDER', 'MARITAL_STATUS', 'REGION', 'BASIC_CURRENT', 'BASIC_SAVINGS', 'ATMCARD']\n",
    "preprocessor = ColumnTransformer(\n",
    "    transformers=[('cat', OneHotEncoder(handle_unknown='ignore'), categorical_columns)]\n",
    ")"
   ],
   "metadata": {
    "collapsed": false,
    "pycharm": {
     "name": "#%%\n"
    }
   }
  },
  {
   "cell_type": "markdown",
   "source": [
    "# Split training and test datasets"
   ],
   "metadata": {
    "collapsed": false
   }
  },
  {
   "cell_type": "code",
   "execution_count": 5,
   "outputs": [],
   "source": [
    "x_train, x_test, y_train, y_test = train_test_split(X, y, test_size=0.1, random_state=31)"
   ],
   "metadata": {
    "collapsed": false,
    "pycharm": {
     "name": "#%%\n"
    }
   }
  },
  {
   "cell_type": "markdown",
   "source": [
    "We will try the following:\n",
    "* Logistic Regression\n",
    "* Random Forest\n",
    "* Gradient Boosting\n",
    "\n",
    "and pick the best of one to deploy."
   ],
   "metadata": {
    "collapsed": false
   }
  },
  {
   "cell_type": "markdown",
   "source": [
    "# Logistic Regression"
   ],
   "metadata": {
    "collapsed": false
   }
  },
  {
   "cell_type": "code",
   "execution_count": 6,
   "outputs": [],
   "source": [
    "lr = Pipeline(\n",
    "    steps=[\n",
    "        ('preprocessor', preprocessor),\n",
    "        ('poly', PolynomialFeatures(2, interaction_only=True)),\n",
    "        ('classifier', LogisticRegression(C=0.2, max_iter=5000,\n",
    "                                solver='liblinear', penalty='l2',\n",
    "                                random_state=31))\n",
    "    ])\n",
    "\n",
    "# lr.fit(x_train, y_train)"
   ],
   "metadata": {
    "collapsed": false,
    "pycharm": {
     "name": "#%%\n"
    }
   }
  },
  {
   "cell_type": "markdown",
   "source": [
    "# Random Forest"
   ],
   "metadata": {
    "collapsed": false
   }
  },
  {
   "cell_type": "code",
   "execution_count": 7,
   "outputs": [],
   "source": [
    "rf = Pipeline(\n",
    "    steps=[\n",
    "        ('preprocessor', preprocessor),\n",
    "        ('classifier', RandomForestClassifier(n_estimators=50, random_state=10,\n",
    "                                              min_samples_leaf=2, max_depth=200,\n",
    "                                              min_samples_split=2, n_jobs=-1))\n",
    "    ])\n",
    "\n",
    "# rf.fit(x_train, y_train)"
   ],
   "metadata": {
    "collapsed": false,
    "pycharm": {
     "name": "#%%\n"
    }
   }
  },
  {
   "cell_type": "markdown",
   "source": [
    "# Gradient Boosting"
   ],
   "metadata": {
    "collapsed": false
   }
  },
  {
   "cell_type": "code",
   "execution_count": 8,
   "outputs": [],
   "source": [
    "gb = Pipeline(\n",
    "    steps=[\n",
    "        ('preprocessor', preprocessor),\n",
    "        ('classifier', GradientBoostingClassifier(n_estimators=20, min_samples_leaf=2,\n",
    "                                                  max_depth=30, random_state=31,\n",
    "                                                  max_leaf_nodes=100))\n",
    "    ])\n",
    "\n",
    "# gb.fit(x_train, y_train)"
   ],
   "metadata": {
    "collapsed": false,
    "pycharm": {
     "name": "#%%\n"
    }
   }
  },
  {
   "cell_type": "markdown",
   "source": [
    "We will first employ cross validation to choose an appropriate model."
   ],
   "metadata": {
    "collapsed": false
   }
  },
  {
   "cell_type": "code",
   "execution_count": 9,
   "outputs": [
    {
     "name": "stdout",
     "output_type": "stream",
     "text": [
      "LR -> Mean score: 0.7629706555403406 Std: 0.006274600817136129\n",
      "RF -> Mean score: 0.7723961731810203 Std: 0.002826955924912132\n",
      "GB -> Mean score: 0.7483967613568481 Std: 0.007473974260688902\n"
     ]
    }
   ],
   "source": [
    "models = [('LR', lr), ('RF', rf), ('GB', gb)]\n",
    "scoring = 'accuracy'\n",
    "\n",
    "for name, model in models:\n",
    "    kfold = StratifiedKFold(n_splits=5, shuffle=True, random_state=22)\n",
    "    result = cross_val_score(model, x_train, y_train, cv=kfold, scoring=scoring)\n",
    "\n",
    "    print('{} -> Mean score: {} Std: {}'.format(name, result.mean(), result.std()))"
   ],
   "metadata": {
    "collapsed": false,
    "pycharm": {
     "name": "#%%\n"
    }
   }
  },
  {
   "cell_type": "markdown",
   "source": [
    "It appears Random Forest model performs the best, so let us improve on it.\n",
    "We will do this using Grid Search for hyperparameter tuning."
   ],
   "metadata": {
    "collapsed": false
   }
  },
  {
   "cell_type": "code",
   "execution_count": 10,
   "outputs": [],
   "source": [
    "params = {\n",
    "    \"classifier__n_estimators\": range(20, 60, 5),\n",
    "    \"classifier__min_samples_leaf\": range(1, 5),\n",
    "    \"classifier__max_depth\": range(15, 60, 3),\n",
    "    \"classifier__max_leaf_nodes\": range(100, 400, 30)\n",
    "}\n",
    "gscv = GridSearchCV(rf, param_grid=params, cv=5, scoring='roc_auc').fit(x_train, y_train)\n",
    "\n",
    "best_model = gscv.best_estimator_"
   ],
   "metadata": {
    "collapsed": false,
    "pycharm": {
     "name": "#%%\n"
    }
   }
  },
  {
   "cell_type": "code",
   "execution_count": 11,
   "outputs": [
    {
     "data": {
      "text/plain": "0.7269230769230769"
     },
     "execution_count": 11,
     "metadata": {},
     "output_type": "execute_result"
    }
   ],
   "source": [
    "best_model.score(x_test, y_test)"
   ],
   "metadata": {
    "collapsed": false,
    "pycharm": {
     "name": "#%%\n"
    }
   }
  },
  {
   "cell_type": "code",
   "execution_count": 12,
   "outputs": [
    {
     "data": {
      "text/plain": "array([[0.84424062, 0.15575938],\n       [0.7075282 , 0.2924718 ],\n       [0.68252237, 0.31747763],\n       [0.75508388, 0.24491612],\n       [0.78434805, 0.21565195],\n       [0.75229642, 0.24770358],\n       [0.81464602, 0.18535398],\n       [0.828745  , 0.171255  ],\n       [0.75039507, 0.24960493],\n       [0.72690928, 0.27309072],\n       [0.72024082, 0.27975918],\n       [0.78187537, 0.21812463],\n       [0.72095068, 0.27904932],\n       [0.75154872, 0.24845128],\n       [0.77162891, 0.22837109],\n       [0.72805738, 0.27194262],\n       [0.54729497, 0.45270503],\n       [0.75741557, 0.24258443],\n       [0.77059296, 0.22940704],\n       [0.77468544, 0.22531456],\n       [0.7983567 , 0.2016433 ],\n       [0.75162701, 0.24837299],\n       [0.75229642, 0.24770358],\n       [0.71873242, 0.28126758],\n       [0.75749968, 0.24250032],\n       [0.76107414, 0.23892586],\n       [0.66980135, 0.33019865],\n       [0.76329868, 0.23670132],\n       [0.78253308, 0.21746692],\n       [0.74650737, 0.25349263],\n       [0.80901282, 0.19098718],\n       [0.7236456 , 0.2763544 ],\n       [0.81941371, 0.18058629],\n       [0.85128939, 0.14871061],\n       [0.71268482, 0.28731518],\n       [0.73069469, 0.26930531],\n       [0.76489135, 0.23510865],\n       [0.81315386, 0.18684614],\n       [0.79990859, 0.20009141],\n       [0.65328754, 0.34671246],\n       [0.76969626, 0.23030374],\n       [0.73774159, 0.26225841],\n       [0.76329868, 0.23670132],\n       [0.76469553, 0.23530447],\n       [0.8594529 , 0.1405471 ],\n       [0.71699369, 0.28300631],\n       [0.78634594, 0.21365406],\n       [0.78580092, 0.21419908],\n       [0.85555147, 0.14444853],\n       [0.85043943, 0.14956057],\n       [0.66952786, 0.33047214],\n       [0.77423749, 0.22576251],\n       [0.68016292, 0.31983708],\n       [0.65990809, 0.34009191],\n       [0.75749968, 0.24250032],\n       [0.78352055, 0.21647945],\n       [0.73436862, 0.26563138],\n       [0.69333365, 0.30666635],\n       [0.76329868, 0.23670132],\n       [0.74837308, 0.25162692],\n       [0.8568641 , 0.1431359 ],\n       [0.82091771, 0.17908229],\n       [0.7333859 , 0.2666141 ],\n       [0.83165643, 0.16834357],\n       [0.82661728, 0.17338272],\n       [0.78768626, 0.21231374],\n       [0.81669829, 0.18330171],\n       [0.70435618, 0.29564382],\n       [0.75162701, 0.24837299],\n       [0.80696318, 0.19303682],\n       [0.77241104, 0.22758896],\n       [0.75903761, 0.24096239],\n       [0.82386444, 0.17613556],\n       [0.83165643, 0.16834357],\n       [0.75093361, 0.24906639],\n       [0.74195947, 0.25804053],\n       [0.72819431, 0.27180569],\n       [0.78066713, 0.21933287],\n       [0.81223583, 0.18776417],\n       [0.78530626, 0.21469374],\n       [0.72128479, 0.27871521],\n       [0.74953868, 0.25046132],\n       [0.86487204, 0.13512796],\n       [0.71622896, 0.28377104],\n       [0.77391213, 0.22608787],\n       [0.71622896, 0.28377104],\n       [0.75563278, 0.24436722],\n       [0.76648074, 0.23351926],\n       [0.83001657, 0.16998343],\n       [0.90110576, 0.09889424],\n       [0.78792669, 0.21207331],\n       [0.78525698, 0.21474302],\n       [0.72283435, 0.27716565],\n       [0.79800568, 0.20199432],\n       [0.74670723, 0.25329277],\n       [0.75093361, 0.24906639],\n       [0.77828183, 0.22171817],\n       [0.7153567 , 0.2846433 ],\n       [0.7236456 , 0.2763544 ],\n       [0.75395639, 0.24604361],\n       [0.76489135, 0.23510865],\n       [0.85084131, 0.14915869],\n       [0.84807536, 0.15192464],\n       [0.83921568, 0.16078432],\n       [0.83945068, 0.16054932],\n       [0.71652611, 0.28347389],\n       [0.78187537, 0.21812463],\n       [0.8317398 , 0.1682602 ],\n       [0.81631842, 0.18368158],\n       [0.63105274, 0.36894726],\n       [0.74620541, 0.25379459],\n       [0.73774159, 0.26225841],\n       [0.76781929, 0.23218071],\n       [0.77058256, 0.22941744],\n       [0.72545203, 0.27454797],\n       [0.7681723 , 0.2318277 ],\n       [0.79536457, 0.20463543],\n       [0.83455201, 0.16544799],\n       [0.73774159, 0.26225841],\n       [0.73924657, 0.26075343],\n       [0.7402412 , 0.2597588 ],\n       [0.8019839 , 0.1980161 ],\n       [0.7543917 , 0.2456083 ],\n       [0.76832356, 0.23167644],\n       [0.82259057, 0.17740943],\n       [0.71325367, 0.28674633],\n       [0.79542715, 0.20457285],\n       [0.75617002, 0.24382998],\n       [0.62898428, 0.37101572],\n       [0.71699369, 0.28300631],\n       [0.88685705, 0.11314295],\n       [0.79800568, 0.20199432],\n       [0.73774159, 0.26225841],\n       [0.82953154, 0.17046846],\n       [0.77828183, 0.22171817],\n       [0.74068757, 0.25931243],\n       [0.76843928, 0.23156072],\n       [0.71622896, 0.28377104],\n       [0.81450117, 0.18549883],\n       [0.78253308, 0.21746692],\n       [0.77561279, 0.22438721],\n       [0.772733  , 0.227267  ],\n       [0.75162701, 0.24837299],\n       [0.81805003, 0.18194997],\n       [0.77828183, 0.22171817],\n       [0.76571971, 0.23428029],\n       [0.81876013, 0.18123987],\n       [0.7380748 , 0.2619252 ],\n       [0.78525698, 0.21474302],\n       [0.73928803, 0.26071197],\n       [0.76805839, 0.23194161],\n       [0.72625207, 0.27374793],\n       [0.76925788, 0.23074212],\n       [0.79001201, 0.20998799],\n       [0.73774159, 0.26225841],\n       [0.77277682, 0.22722318],\n       [0.66652642, 0.33347358],\n       [0.84139395, 0.15860605],\n       [0.82784985, 0.17215015],\n       [0.8216753 , 0.1783247 ],\n       [0.77263438, 0.22736562],\n       [0.77058256, 0.22941744],\n       [0.76631523, 0.23368477],\n       [0.79961132, 0.20038868],\n       [0.80966977, 0.19033023],\n       [0.73938062, 0.26061938],\n       [0.82947606, 0.17052394],\n       [0.77276918, 0.22723082],\n       [0.69287215, 0.30712785],\n       [0.83201154, 0.16798846],\n       [0.84548814, 0.15451186],\n       [0.84198462, 0.15801538],\n       [0.76516342, 0.23483658],\n       [0.88685705, 0.11314295],\n       [0.83246307, 0.16753693],\n       [0.76290883, 0.23709117],\n       [0.77437914, 0.22562086],\n       [0.79279235, 0.20720765],\n       [0.76204253, 0.23795747],\n       [0.78609563, 0.21390437],\n       [0.76911587, 0.23088413],\n       [0.78180446, 0.21819554],\n       [0.6348786 , 0.3651214 ],\n       [0.80966977, 0.19033023],\n       [0.71699369, 0.28300631],\n       [0.7768912 , 0.2231088 ],\n       [0.76346292, 0.23653708],\n       [0.82852851, 0.17147149],\n       [0.77576278, 0.22423722],\n       [0.78187537, 0.21812463],\n       [0.78809452, 0.21190548],\n       [0.72629484, 0.27370516],\n       [0.79639097, 0.20360903],\n       [0.7717546 , 0.2282454 ],\n       [0.76308122, 0.23691878],\n       [0.7335787 , 0.2664213 ],\n       [0.83825637, 0.16174363],\n       [0.68484682, 0.31515318],\n       [0.75617002, 0.24382998],\n       [0.71823918, 0.28176082],\n       [0.77876843, 0.22123157],\n       [0.78687195, 0.21312805],\n       [0.65623074, 0.34376926],\n       [0.72073144, 0.27926856],\n       [0.77277682, 0.22722318],\n       [0.8429095 , 0.1570905 ],\n       [0.75274628, 0.24725372],\n       [0.77820378, 0.22179622],\n       [0.72523539, 0.27476461],\n       [0.65328754, 0.34671246],\n       [0.76489135, 0.23510865],\n       [0.75192007, 0.24807993],\n       [0.7078604 , 0.2921396 ],\n       [0.88940727, 0.11059273],\n       [0.73774159, 0.26225841],\n       [0.76631523, 0.23368477],\n       [0.78525698, 0.21474302],\n       [0.7700659 , 0.2299341 ],\n       [0.86599397, 0.13400603],\n       [0.74246338, 0.25753662],\n       [0.89631689, 0.10368311],\n       [0.85411645, 0.14588355],\n       [0.85293315, 0.14706685],\n       [0.76874295, 0.23125705],\n       [0.78609563, 0.21390437],\n       [0.78780213, 0.21219787],\n       [0.75499771, 0.24500229],\n       [0.79503377, 0.20496623],\n       [0.74945985, 0.25054015],\n       [0.78730315, 0.21269685],\n       [0.70715999, 0.29284001],\n       [0.87514509, 0.12485491],\n       [0.77322051, 0.22677949],\n       [0.78768626, 0.21231374],\n       [0.71622896, 0.28377104],\n       [0.71992878, 0.28007122],\n       [0.74681699, 0.25318301],\n       [0.84198462, 0.15801538],\n       [0.7630068 , 0.2369932 ],\n       [0.76379407, 0.23620593],\n       [0.72948442, 0.27051558],\n       [0.74670723, 0.25329277],\n       [0.76571971, 0.23428029],\n       [0.8391562 , 0.1608438 ],\n       [0.83201154, 0.16798846],\n       [0.72705124, 0.27294876],\n       [0.7463165 , 0.2536835 ],\n       [0.74246338, 0.25753662],\n       [0.786716  , 0.213284  ],\n       [0.72300573, 0.27699427],\n       [0.75837558, 0.24162442],\n       [0.82158276, 0.17841724],\n       [0.76290883, 0.23709117],\n       [0.71427215, 0.28572785],\n       [0.76204253, 0.23795747],\n       [0.78187537, 0.21812463],\n       [0.72553156, 0.27446844],\n       [0.65408387, 0.34591613],\n       [0.78180446, 0.21819554],\n       [0.71469996, 0.28530004]])"
     },
     "execution_count": 12,
     "metadata": {},
     "output_type": "execute_result"
    }
   ],
   "source": [
    "best_model.predict_proba(x_test)"
   ],
   "metadata": {
    "collapsed": false,
    "pycharm": {
     "name": "#%%\n"
    }
   }
  },
  {
   "cell_type": "markdown",
   "source": [
    "* The column with heading 0 is the probability that the loan is a good loan\n",
    "* The column with heading 1 is the probability that the loan is a bad loan"
   ],
   "metadata": {
    "collapsed": false
   }
  },
  {
   "cell_type": "markdown",
   "source": [
    "## Export model artefact to file"
   ],
   "metadata": {
    "collapsed": false
   }
  },
  {
   "cell_type": "code",
   "execution_count": 13,
   "outputs": [],
   "source": [
    "pickle.dump(best_model, open('best-model', 'wb'))"
   ],
   "metadata": {
    "collapsed": false,
    "pycharm": {
     "name": "#%%\n"
    }
   }
  },
  {
   "cell_type": "markdown",
   "source": [
    "## Model Improvement\n",
    "The following are ways in which the model can be improved:\n",
    "* Scaling the dataset (e.g Min-Max scaling)\n",
    "* Providing more features, e.g. the interest to be paid on the loan.\n",
    "* A larger dataset"
   ],
   "metadata": {
    "collapsed": false
   }
  },
  {
   "cell_type": "markdown",
   "source": [
    "# Model Monitoring and Maintenance in Production\n",
    "\n",
    "Constant re-training of the model is important to keep the model updated. This can be ensured by:\n",
    "* Collecting performance metrics (accuracy, roc-auc, etc.) and using that to make the model better.\n",
    "* Scaling the API using Kubernetes as requests increase.\n",
    "* Model versioning would be used to maintain model across versions so that rollback can be appropriately done if required."
   ],
   "metadata": {
    "collapsed": false
   }
  },
  {
   "cell_type": "code",
   "execution_count": 13,
   "outputs": [],
   "source": [],
   "metadata": {
    "collapsed": false,
    "pycharm": {
     "name": "#%%\n"
    }
   }
  }
 ],
 "metadata": {
  "kernelspec": {
   "display_name": "Python 3",
   "language": "python",
   "name": "python3"
  },
  "language_info": {
   "codemirror_mode": {
    "name": "ipython",
    "version": 2
   },
   "file_extension": ".py",
   "mimetype": "text/x-python",
   "name": "python",
   "nbconvert_exporter": "python",
   "pygments_lexer": "ipython2",
   "version": "2.7.6"
  }
 },
 "nbformat": 4,
 "nbformat_minor": 0
}